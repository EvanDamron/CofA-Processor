{
 "cells": [
  {
   "cell_type": "code",
   "execution_count": 116,
   "id": "0e28f621-d8e2-4b36-97e0-c9592b063eb4",
   "metadata": {},
   "outputs": [
    {
     "name": "stdout",
     "output_type": "stream",
     "text": [
      "Delivery No: 80719098\n",
      "Product Name: OLOA® 55603\n",
      "Batch Number: 2025021820\n",
      "Vehicle Number: COCX280978\n",
      "Production Date: 01/12/2025\n",
      "Shelf life Exp Date: 01/12/2027\n",
      "Quantity: 21,078.652\n",
      "BASE NUMBER(TBN): {'Results': '85.9', 'Minimum': '75.3', 'Maximum': '92.1'}\n",
      "BORON: {'Results': '0.1420', 'Minimum': '0.110', 'Maximum': '0.150'}\n",
      "CALCIUM: {'Results': '1.5060', 'Minimum': '1.380', 'Maximum': '1.600'}\n",
      "DENSITY @ 15C: 0.9672\n",
      "MOLYBDENUM: {'Results': '0.3440', 'Minimum': '0.280', 'Maximum': '0.380'}\n",
      "NITROGEN: {'Results': '0.950', 'Minimum': '0.860', 'Maximum': '1.060'}\n",
      "PHOSPHORUS: {'Results': '0.7850', 'Minimum': '0.730', 'Maximum': '0.850'}\n",
      "VISCOSITY @ 100C: {'Results': '99.45', 'Minimum': '77.00', 'Maximum': '129.00'}\n",
      "ZINC: {'Results': '0.9070', 'Minimum': '0.830', 'Maximum': '0.990'}\n"
     ]
    }
   ],
   "source": [
    "import re\n",
    "\n",
    "# Read the file correctly\n",
    "with open(\"Raw Material_Evan.txt\", \"r\", encoding=\"utf-8\") as file:\n",
    "    text = file.read()  # Read the entire content as a string\n",
    "\n",
    "# Preprocess the text\n",
    "lines = text.split(\"\\n\")\n",
    "\n",
    "# Initialize a dictionary to store key-value pairs\n",
    "data = {}\n",
    "\n",
    "# Define regex patterns for key-value pairs\n",
    "patterns = {\n",
    "    \"Delivery No\": r\"Delivery No (\\d+)\",\n",
    "    \"Product Name\": r\"Product Name (.+)\",\n",
    "    \"Batch Number\": r\"Batch Number (\\d+)\",\n",
    "    \"Vehicle Number\": r\"Vehicle Number (\\w+)\",\n",
    "    \"Production Date\": r\"Production Date (\\d{2}/\\d{2}/\\d{4})\",\n",
    "    \"Shelf life Exp Date\": r\"Shelf life Exp Date (\\d{2}/\\d{2}/\\d{4})\",\n",
    "    \"Quantity\": r\"Quantity ([\\d,]+\\.\\d+) GA\",\n",
    "    \"Ref No / Cust PO / Date\": r\"Ref No / Cust PO / Date : (\\d+ / \\w+ \\d{2}/\\d{2}/\\d{4})\",\n",
    "    \"BASE NUMBER(TBN)\": r\"BASE NUMBER\\(TBN\\) mgKOH/g ASTM D2896 ([\\d.]+) ([\\d.]+) ([\\d.]+)\",\n",
    "    \"BORON\": r\"BORON % Weight ASTM D4951 ([\\d.]+) ([\\d.]+) ([\\d.]+)\",\n",
    "    \"CALCIUM\": r\"CALCIUM % Weight ASTM D4951 ([\\d.]+) ([\\d.]+) ([\\d.]+)\",\n",
    "    \"DENSITY @ 15C\": r\"DENSITY @ 15C Kg/Liter ASTM D4052 ([\\d.]+)\",\n",
    "    \"MAGNESIUM\": r\"MAGNESIUM % Weight ASTM D4951 ([\\d.]+) ([\\d.]+) ([\\d.]+)\",\n",
    "    \"MOLYBDENUM\": r\"MOLYBDENUM % Weight ASTM D4951 ([\\d.]+) ([\\d.]+) ([\\d.]+)\",\n",
    "    \"NITROGEN\": r\"NITROGEN % Weight ASTM D5291 ([\\d.]+) ([\\d.]+) ([\\d.]+)\",\n",
    "    \"PHOSPHORUS\": r\"PHOSPHORUS % Weight ASTM D4951 ([\\d.]+) ([\\d.]+) ([\\d.]+)\",\n",
    "    \"VISCOSITY @ 100C\": r\"VISCOSITY @ 100C Centistoke ASTM D445 ([\\d.]+) ([\\d.]+) ([\\d.]+)\",\n",
    "    \"ZINC\": r\"ZINC % Weight ASTM D4951 ([\\d.]+) ([\\d.]+) ([\\d.]+)\",\n",
    "}\n",
    "\n",
    "# Extract key-value pairs using regex\n",
    "for line in lines:\n",
    "    for key, pattern in patterns.items():\n",
    "        match = re.search(pattern, line)\n",
    "        if match:\n",
    "            if key in [\"BASE NUMBER(TBN)\", \"BORON\", \"CALCIUM\", \"MAGNESIUM\", \"MOLYBDENUM\", \"NITROGEN\", \"PHOSPHORUS\", \"VISCOSITY @ 100C\", \"ZINC\"]:\n",
    "                data[key] = {\n",
    "                    \"Results\": match.group(1),\n",
    "                    \"Minimum\": match.group(2),\n",
    "                    \"Maximum\": match.group(3)\n",
    "                }\n",
    "            else:\n",
    "                data[key] = match.group(1)\n",
    "\n",
    "# Print the extracted data\n",
    "for key, value in data.items():\n",
    "    print(f\"{key}: {value}\")\n"
   ]
  },
  {
   "cell_type": "code",
   "execution_count": null,
   "id": "f1bfbd21-c38e-4ecc-b0e4-1d397b2d8d16",
   "metadata": {},
   "outputs": [],
   "source": []
  }
 ],
 "metadata": {
  "kernelspec": {
   "display_name": "Python 3 (ipykernel)",
   "language": "python",
   "name": "python3"
  },
  "language_info": {
   "codemirror_mode": {
    "name": "ipython",
    "version": 3
   },
   "file_extension": ".py",
   "mimetype": "text/x-python",
   "name": "python",
   "nbconvert_exporter": "python",
   "pygments_lexer": "ipython3",
   "version": "3.12.4"
  }
 },
 "nbformat": 4,
 "nbformat_minor": 5
}
